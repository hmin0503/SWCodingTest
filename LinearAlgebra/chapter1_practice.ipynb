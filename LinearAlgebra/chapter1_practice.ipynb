{
 "cells": [
  {
   "cell_type": "code",
   "execution_count": 1,
   "id": "5e8c935b-a4b8-4898-9b8f-ffd19e993d77",
   "metadata": {},
   "outputs": [],
   "source": [
    "import numpy as np\n",
    "asList = [1,2,3]\n",
    "asArray = np.array([1,2,3])\n",
    "rowVec = np.array([ [1,2,3]])\n",
    "colVec = np.array([[1], [2], [3]])"
   ]
  },
  {
   "cell_type": "code",
   "execution_count": 2,
   "id": "21c699e3-0391-432c-8371-0c0b13c9abfa",
   "metadata": {},
   "outputs": [
    {
     "name": "stdout",
     "output_type": "stream",
     "text": [
      "asli st: (3,)\n",
      "asArray: (3,)\n",
      "rowVec : (1, 3)\n",
      "colVec: (3, 1)\n"
     ]
    }
   ],
   "source": [
    "print(f'asli st: {np.shape(asList)}')\n",
    "print(f'asArray: {asArray.shape}')\n",
    "print(f'rowVec : {rowVec. shape}' )\n",
    "print(f'colVec: {colVec.shape}')"
   ]
  },
  {
   "cell_type": "code",
   "execution_count": 3,
   "id": "d6bc1c3d-2dab-4d6c-9139-081ca47a5922",
   "metadata": {},
   "outputs": [
    {
     "name": "stdout",
     "output_type": "stream",
     "text": [
      "14.422205101855956\n"
     ]
    }
   ],
   "source": [
    "v = np.array([1,2,3,7,8,9])\n",
    "v_dim = len(v)\n",
    "v_mag = np.linalg.norm(v)\n",
    "print(v_mag)"
   ]
  },
  {
   "cell_type": "code",
   "execution_count": 11,
   "id": "9d691645-a18d-4526-8828-4eb9f7822d02",
   "metadata": {},
   "outputs": [
    {
     "data": {
      "text/plain": [
       "array([[11, 12, 13, 14, 15],\n",
       "       [21, 22, 23, 24, 25],\n",
       "       [31, 32, 33, 34, 35]])"
      ]
     },
     "execution_count": 11,
     "metadata": {},
     "output_type": "execute_result"
    }
   ],
   "source": [
    "v = np.array([[1,2,3,4,5]])\n",
    "w = np.array([[10, 20, 30]]).T\n",
    "v + w"
   ]
  },
  {
   "cell_type": "markdown",
   "id": "c74437f7-0082-4749-80d6-079f2ff345cc",
   "metadata": {},
   "source": [
    "#### 1.4 벡터 내적"
   ]
  },
  {
   "cell_type": "code",
   "execution_count": 4,
   "id": "09501a4e-3104-4c4e-966e-0e91ec4f6fcd",
   "metadata": {},
   "outputs": [
    {
     "data": {
      "text/plain": [
       "70"
      ]
     },
     "execution_count": 4,
     "metadata": {},
     "output_type": "execute_result"
    }
   ],
   "source": [
    "v = np.array([1,2,3,4])\n",
    "w = np.array([5,6,7,8])\n",
    "np.dot(v,w)"
   ]
  },
  {
   "cell_type": "code",
   "execution_count": 5,
   "id": "caec82d9-96dd-4ff1-b2a1-7b4fecfaf15f",
   "metadata": {},
   "outputs": [
    {
     "data": {
      "text/plain": [
       "70"
      ]
     },
     "execution_count": 5,
     "metadata": {},
     "output_type": "execute_result"
    }
   ],
   "source": [
    "np.dot(w,v)"
   ]
  },
  {
   "cell_type": "code",
   "execution_count": null,
   "id": "bf169ed5-9726-45a2-8969-556ac88e740e",
   "metadata": {},
   "outputs": [],
   "source": []
  },
  {
   "cell_type": "markdown",
   "id": "01b136cc-37c1-4b28-8980-93ef88b88160",
   "metadata": {
    "tags": []
   },
   "source": [
    "#### 1.5.1 아다마르곱"
   ]
  },
  {
   "cell_type": "code",
   "execution_count": 6,
   "id": "23228f9f-f61d-4c31-9bee-440133e0010c",
   "metadata": {},
   "outputs": [
    {
     "data": {
      "text/plain": [
       "70"
      ]
     },
     "execution_count": 6,
     "metadata": {},
     "output_type": "execute_result"
    }
   ],
   "source": [
    "np.dot(v.T,w)"
   ]
  },
  {
   "cell_type": "code",
   "execution_count": 7,
   "id": "9c5307e8-8f42-40e5-a7f3-db1c83952edd",
   "metadata": {},
   "outputs": [
    {
     "data": {
      "text/plain": [
       "70"
      ]
     },
     "execution_count": 7,
     "metadata": {},
     "output_type": "execute_result"
    }
   ],
   "source": [
    "np.dot(v,w.T)"
   ]
  },
  {
   "cell_type": "code",
   "execution_count": 10,
   "id": "eb35300f-9ee9-4414-8ab3-81e54527c335",
   "metadata": {},
   "outputs": [
    {
     "data": {
      "text/plain": [
       "array([ 5.,  0.,  4., -2.])"
      ]
     },
     "execution_count": 10,
     "metadata": {},
     "output_type": "execute_result"
    }
   ],
   "source": [
    "a = np.array([5,2,8,2])\n",
    "b = np.array([1, 0, .5, -1])\n",
    "a * b"
   ]
  },
  {
   "cell_type": "markdown",
   "id": "2bade87a-e9cc-42b3-8fba-51ee980b4e99",
   "metadata": {},
   "source": [
    "#### 1.5.2 외적"
   ]
  },
  {
   "cell_type": "code",
   "execution_count": 12,
   "id": "ca76320e-5eb6-44a2-95e0-6994a63059cd",
   "metadata": {},
   "outputs": [],
   "source": [
    "# np.outer()\n",
    "# np.dot()"
   ]
  },
  {
   "cell_type": "markdown",
   "id": "b48e1f1c-f81d-452e-8f08-45dec1926886",
   "metadata": {},
   "source": [
    "### 연습문제"
   ]
  },
  {
   "cell_type": "markdown",
   "id": "26dfb259-4869-4c6d-81d7-5a23f7e29a91",
   "metadata": {},
   "source": [
    "#### Q1"
   ]
  },
  {
   "cell_type": "code",
   "execution_count": 14,
   "id": "8c8307c1-7b43-40b1-aead-63bd26033fd0",
   "metadata": {},
   "outputs": [],
   "source": [
    "import matplotlib.pyplot as plt"
   ]
  },
  {
   "cell_type": "code",
   "execution_count": 35,
   "id": "9c3028a7-6bde-46d3-8331-a6ca67dd26c5",
   "metadata": {},
   "outputs": [],
   "source": [
    "v = np.array([1,2])\n",
    "w = np.array([4, -6])\n",
    "vw = v + w"
   ]
  },
  {
   "cell_type": "code",
   "execution_count": 36,
   "id": "d04a0bdb-3422-4aa9-8050-38b7cea42573",
   "metadata": {},
   "outputs": [
    {
     "data": {
      "image/png": "[encoded data removed]",
      "text/plain": [
       "<Figure size 432x432 with 1 Axes>"
      ]
     },
     "metadata": {
      "needs_background": "light"
     },
     "output_type": "display_data"
    }
   ],
   "source": [
    "plt.figure(figsize = (6,6))\n",
    "a1 = plt.arrow(0, 0, v[0], v[1], head_width=.3,width=.1,color='k',length_includes_head=True)\n",
    "a2 = plt.arrow(v[0], v[1], w[0], w[1], head_width=.3,width=.1,color=[.5,.5,.5], length_includes_head=True)\n",
    "a3 = plt.arrow(0, 0, vw[0], vw[1], head_width=.3,width=.1,color=[.8,.8,.8], length_includes_head=True)\n",
    "\n",
    "plt.grid(linestyle='--',linewidth=.5)\n",
    "plt.axis('square')\n",
    "plt.axis([-6,6,-6,6])\n",
    "plt.legend([a1,a2,a3],['v','w','v+w'])\n",
    "plt.title('Vectors $\\mathbf{v}$, $\\mathbf{w}$, and $\\mathbf{v+w}$')\n",
    "plt.show()"
   ]
  },
  {
   "cell_type": "code",
   "execution_count": 39,
   "id": "0fcf205d-59e6-47b5-906d-630ebfcdb6b9",
   "metadata": {},
   "outputs": [
    {
     "data": {
      "image/png": "[encoded data removed]",
      "text/plain": [
       "<Figure size 432x432 with 1 Axes>"
      ]
     },
     "metadata": {
      "needs_background": "light"
     },
     "output_type": "display_data"
    }
   ],
   "source": [
    "vw = v - w\n",
    "\n",
    "plt.figure(figsize = (6,6))\n",
    "a1 = plt.arrow(0, 0, v[0], v[1], head_width=.3,width=.1,color='k',length_includes_head=True)\n",
    "a2 = plt.arrow(0, 0, w[0], w[1], head_width=.3,width=.1,color=[.5,.5,.5], length_includes_head=True)\n",
    "a3 = plt.arrow(w[0], w[1], vw[0], vw[1], head_width=.3,width=.1,color=[.8,.8,.8], length_includes_head=True)\n",
    "\n",
    "plt.grid(linestyle='--',linewidth=.5)\n",
    "plt.axis('square')\n",
    "plt.axis([-6,6,-6,6])\n",
    "plt.legend([a1,a2,a3],['v','w','v-w'])\n",
    "plt.title('Vectors $\\mathbf{v}$, $\\mathbf{w}$, and $\\mathbf{v-w}$')\n",
    "plt.show()"
   ]
  },
  {
   "cell_type": "markdown",
   "id": "f39fa61b-85d6-47f7-a89e-4e15b5e57e5e",
   "metadata": {},
   "source": [
    "#### Q2"
   ]
  },
  {
   "cell_type": "code",
   "execution_count": 45,
   "id": "77584ed0-8aca-42f0-ba89-2fb1efeba492",
   "metadata": {},
   "outputs": [],
   "source": [
    "def get_norm(v):\n",
    "    norm = sum([a**2 for a in v])**0.5\n",
    "    return norm\n",
    "\n",
    "def get_norm_np(v):\n",
    "    import numpy as np\n",
    "    v = np.array(v)\n",
    "    norm = np.sqrt(np.sum(v**2))\n",
    "    return norm"
   ]
  },
  {
   "cell_type": "code",
   "execution_count": 50,
   "id": "9c71c81a-703d-41aa-8791-bcf2c59e640d",
   "metadata": {},
   "outputs": [
    {
     "data": {
      "text/plain": [
       "True"
      ]
     },
     "execution_count": 50,
     "metadata": {},
     "output_type": "execute_result"
    }
   ],
   "source": [
    "get_norm([1,2,3]) == get_norm_np([1,2,3])"
   ]
  },
  {
   "cell_type": "code",
   "execution_count": 51,
   "id": "b0d04b42-8305-41a4-9479-1fe54f24972b",
   "metadata": {},
   "outputs": [
    {
     "data": {
      "text/plain": [
       "True"
      ]
     },
     "execution_count": 51,
     "metadata": {},
     "output_type": "execute_result"
    }
   ],
   "source": [
    "np.linalg.norm([1,2,3]) == get_norm_np([1,2,3])"
   ]
  },
  {
   "cell_type": "markdown",
   "id": "b76a6d74-db1f-4381-9b93-c658d970c85b",
   "metadata": {},
   "source": [
    "#### Q3"
   ]
  },
  {
   "cell_type": "markdown",
   "id": "dea6cd81-5536-45f0-a2b7-c0ebf3ce1915",
   "metadata": {},
   "source": [
    "벡터를 입력 받아 동일한 방향의 단위벡터를 출력하는 파이썬 함수 구현. \n",
    "만약, 영벡터를 입력하면 어떻게 될까요?"
   ]
  },
  {
   "cell_type": "code",
   "execution_count": 54,
   "id": "de9299f8-56af-4150-be9e-0f9e0f49bece",
   "metadata": {},
   "outputs": [],
   "source": [
    "def get_unit(v):\n",
    "    import numpy as np\n",
    "    v = np.array(v)\n",
    "    # norm = get_norm_np(v)\n",
    "    norm = np.linalg.norm(v)\n",
    "    return v / norm"
   ]
  },
  {
   "cell_type": "code",
   "execution_count": 55,
   "id": "fdcc0dfe-6964-4acb-be58-e828cba75fac",
   "metadata": {},
   "outputs": [
    {
     "data": {
      "text/plain": [
       "array([0.26726124, 0.53452248, 0.80178373])"
      ]
     },
     "execution_count": 55,
     "metadata": {},
     "output_type": "execute_result"
    }
   ],
   "source": [
    "get_unit([1,2,3])"
   ]
  },
  {
   "cell_type": "code",
   "execution_count": 56,
   "id": "9ac5023d-6b3a-4bb5-8e22-f29d4c5f7c58",
   "metadata": {},
   "outputs": [
    {
     "data": {
      "text/plain": [
       "array([0., 1., 0.])"
      ]
     },
     "execution_count": 56,
     "metadata": {},
     "output_type": "execute_result"
    }
   ],
   "source": [
    "get_unit([0,3,0])"
   ]
  },
  {
   "cell_type": "code",
   "execution_count": 58,
   "id": "c1cf6c67-e830-48b7-bb6f-4a526e0e05c9",
   "metadata": {},
   "outputs": [
    {
     "name": "stdout",
     "output_type": "stream",
     "text": [
      "[13, -5, 7]\n",
      "15.588457268119896\n",
      "[ 0.83395039 -0.32075015  0.44905021]\n",
      "1.0\n"
     ]
    }
   ],
   "source": [
    "v = [13, -5, 7]\n",
    "print(v)\n",
    "print(get_norm(v))\n",
    "uv = get_unit(v)\n",
    "print(uv)\n",
    "print(get_norm(uv))\n"
   ]
  },
  {
   "cell_type": "code",
   "execution_count": 60,
   "id": "36320acb-d560-460d-838a-0a7a18b4677d",
   "metadata": {},
   "outputs": [
    {
     "name": "stdout",
     "output_type": "stream",
     "text": [
      "0.0\n",
      "[nan nan nan]\n"
     ]
    },
    {
     "name": "stderr",
     "output_type": "stream",
     "text": [
      "C:\\Users\\hyang\\AppData\\Local\\Temp\\ipykernel_16596\\473414392.py:6: RuntimeWarning: invalid value encountered in true_divide\n",
      "  return v / norm\n"
     ]
    }
   ],
   "source": [
    "print(get_norm([0,0,0]))\n",
    "print(get_unit([0,0,0]))"
   ]
  },
  {
   "cell_type": "markdown",
   "id": "bc99ab22-b058-4f8a-ba5f-2a23f1d58132",
   "metadata": {},
   "source": [
    "#### Q4"
   ]
  },
  {
   "cell_type": "markdown",
   "id": "d9932c0b-5385-4262-a0f1-6af714e16ab9",
   "metadata": {},
   "source": [
    "임의의 크기의 벡터를 만들고 싶다면 어떻게 해야 할까요? 벡터와 원하는 크기를 입력 받고 벡터와 동일한 방향이지만 두 번 째 입력에 해당하는 크기를 가진 벡터를 반환하는 파이썬 함수를 작성해 보세요."
   ]
  },
  {
   "cell_type": "code",
   "execution_count": 64,
   "id": "c348da48-e17a-430e-b393-8a98204370ad",
   "metadata": {},
   "outputs": [],
   "source": [
    "def get_mag_vector(v, size):\n",
    "    # 벡터를 단위 벡터로 변환 후\n",
    "    # 해당 size 만큼 늘려주기?\n",
    "    import numpy as np\n",
    "    v = np.array(v)\n",
    "    return size * v / np.linalg.norm(v)"
   ]
  },
  {
   "cell_type": "code",
   "execution_count": 70,
   "id": "c37dabf1-1d22-45c0-9422-ffdbb4cf97e2",
   "metadata": {},
   "outputs": [
    {
     "name": "stdout",
     "output_type": "stream",
     "text": [
      "[2.67261242 5.34522484 8.01783726] norm 10.0\n"
     ]
    }
   ],
   "source": [
    "v = [1,2,3]\n",
    "size = 10\n",
    "mv = get_mag_vector(v, size)\n",
    "print(mv, \"norm\", np.linalg.norm(mv))"
   ]
  },
  {
   "cell_type": "markdown",
   "id": "663e752f-d0e0-419b-a43c-eee32dd089e7",
   "metadata": {},
   "source": [
    "#### Q5"
   ]
  },
  {
   "cell_type": "code",
   "execution_count": 97,
   "id": "853064e7-096f-4fd9-85c0-02ccec6358aa",
   "metadata": {},
   "outputs": [],
   "source": [
    "def row2col(v):\n",
    "    import numpy as np\n",
    "    v = np.array(v)\n",
    "    vt = np.zeros((v.shape[0],1))\n",
    "    for idx, _v in enumerate(v):\n",
    "        vt[idx] = _v\n",
    "    return vt"
   ]
  },
  {
   "cell_type": "code",
   "execution_count": 98,
   "id": "f895d041-67cb-4449-9eb7-898c1090e0fe",
   "metadata": {},
   "outputs": [
    {
     "data": {
      "text/plain": [
       "array([[1.],\n",
       "       [2.],\n",
       "       [3.]])"
      ]
     },
     "execution_count": 98,
     "metadata": {},
     "output_type": "execute_result"
    }
   ],
   "source": [
    "row2col([1,2,3])"
   ]
  },
  {
   "cell_type": "markdown",
   "id": "d0606cd6-b043-4cab-9d9c-5546592be023",
   "metadata": {},
   "source": [
    "#### Q6"
   ]
  },
  {
   "cell_type": "markdown",
   "id": "614896b3-fcf4-4db0-8e39-c3755287bcb2",
   "metadata": {},
   "source": [
    "벡터의 제곱 노름을 그 벡터 자체의 내적으로 구할 수 있습니다. "
   ]
  },
  {
   "cell_type": "code",
   "execution_count": 100,
   "id": "aea30da8-5e41-445c-9d7d-5f8e8ebed3f6",
   "metadata": {},
   "outputs": [],
   "source": [
    "v = [1,2,3]"
   ]
  },
  {
   "cell_type": "code",
   "execution_count": 101,
   "id": "87ebddd6-3a0b-4606-8027-821d819003ba",
   "metadata": {},
   "outputs": [
    {
     "data": {
      "text/plain": [
       "14"
      ]
     },
     "execution_count": 101,
     "metadata": {},
     "output_type": "execute_result"
    }
   ],
   "source": [
    "np.dot(v,v)"
   ]
  },
  {
   "cell_type": "code",
   "execution_count": 103,
   "id": "dfe23625-a9b9-493b-83ed-36a9168d96af",
   "metadata": {},
   "outputs": [
    {
     "data": {
      "text/plain": [
       "14.0"
      ]
     },
     "execution_count": 103,
     "metadata": {},
     "output_type": "execute_result"
    }
   ],
   "source": [
    "np.linalg.norm(v)**2"
   ]
  },
  {
   "cell_type": "markdown",
   "id": "9f89f965-31fc-42e7-aa3c-99db43bb052b",
   "metadata": {},
   "source": [
    "#### Q7"
   ]
  },
  {
   "cell_type": "markdown",
   "id": "5017e2be-0b8a-42ea-b6bd-b9aac2dfc865",
   "metadata": {},
   "source": [
    "내적의 교환법칙 입증\n",
    "\n",
    "$\\delta = \\sum^{n}_{i=1}a_ib_i$"
   ]
  },
  {
   "cell_type": "code",
   "execution_count": 104,
   "id": "a19d1851-3212-4a65-ad81-046a0746d982",
   "metadata": {},
   "outputs": [],
   "source": [
    "a = [1,2,3]\n",
    "b = [4,5,6]"
   ]
  },
  {
   "cell_type": "code",
   "execution_count": 105,
   "id": "d1fa023f-d8a1-4582-a006-f9b2410739b3",
   "metadata": {},
   "outputs": [
    {
     "data": {
      "text/plain": [
       "True"
      ]
     },
     "execution_count": 105,
     "metadata": {},
     "output_type": "execute_result"
    }
   ],
   "source": [
    "np.dot(a, b) == np.dot(b,a)"
   ]
  },
  {
   "cell_type": "markdown",
   "id": "bc817ec1-100b-4200-a5cb-64705e4d7ee4",
   "metadata": {},
   "source": [
    "#### Q8\n",
    "직교 투영"
   ]
  },
  {
   "cell_type": "code",
   "execution_count": 107,
   "id": "21047b44-77a4-426b-abc8-17ac9664d17b",
   "metadata": {},
   "outputs": [],
   "source": [
    "import matplotlib.pyplot as plt"
   ]
  },
  {
   "cell_type": "code",
   "execution_count": 157,
   "id": "9d2738e2-a12e-48d4-8d6a-e9c365d5a7f9",
   "metadata": {},
   "outputs": [
    {
     "data": {
      "image/png": "[encoded data removed]",
      "text/plain": [
       "<Figure size 432x432 with 1 Axes>"
      ]
     },
     "metadata": {
      "needs_background": "light"
     },
     "output_type": "display_data"
    }
   ],
   "source": [
    "plt.figure(figsize = (6,6))\n",
    "a = [3,6]\n",
    "b = [4,2]\n",
    "beta = np.dot(a,b)/np.dot(a,a)\n",
    "\n",
    "project = b - beta*np.array(a)\n",
    "\n",
    "plt.arrow(0, 0, a[0], a[1], head_width=.3, color = \"blue\", length_includes_head = True)\n",
    "plt.arrow(0, 0, b[0], b[1], head_width=.3, color = \"black\", length_includes_head = True)\n",
    "\n",
    "plt.plot(beta*a[0], beta*a[1], \"bo\", markersize = 10)\n",
    "plt.plot([beta*a[0], b[0]], [beta*a[1], b[1]], 'k--')\n",
    "\n",
    "plt.axis('square')\n",
    "plt.axis([0, 7, 0,7])\n",
    "plt.show()"
   ]
  },
  {
   "cell_type": "code",
   "execution_count": 158,
   "id": "fee5d2ad-8fb6-4905-b69b-a29254ae97ff",
   "metadata": {},
   "outputs": [
    {
     "data": {
      "image/png": "[encoded data removed]",
      "text/plain": [
       "<Figure size 288x288 with 1 Axes>"
      ]
     },
     "metadata": {
      "needs_background": "light"
     },
     "output_type": "display_data"
    }
   ],
   "source": [
    "# the vectors a and b\n",
    "a = np.array([1,2])\n",
    "b = np.array([1.5,.5])\n",
    "\n",
    "# compute beta\n",
    "beta = np.dot(a,b) / np.dot(a,a)\n",
    "\n",
    "# compute the projection vector (not explicitly used in the plot)\n",
    "projvect = b - beta*a\n",
    "\n",
    "\n",
    "# draw the figure\n",
    "plt.figure(figsize=(4,4))\n",
    "\n",
    "# vectors\n",
    "plt.arrow(0,0,a[0],a[1],head_width=.2,width=.02,color='k',length_includes_head=True)\n",
    "plt.arrow(0,0,b[0],b[1],head_width=.2,width=.02,color='k',length_includes_head=True)\n",
    "\n",
    "# projection vector\n",
    "plt.plot([b[0],beta*a[0]],[b[1],beta*a[1]],'k--')\n",
    "\n",
    "# projection on a\n",
    "plt.plot(beta*a[0],beta*a[1],'ko',markerfacecolor='w',markersize=13)\n",
    "\n",
    "# make the plot look nicer\n",
    "plt.plot([-1,2.5],[0,0],'--',color='gray',linewidth=.5)\n",
    "plt.plot([0,0],[-1,2.5],'--',color='gray',linewidth=.5)\n",
    "\n",
    "# add labels\n",
    "plt.text(a[0]+.1,a[1],'a',fontweight='bold',fontsize=18)\n",
    "plt.text(b[0],b[1]-.3,'b',fontweight='bold',fontsize=18)\n",
    "plt.text(beta*a[0]-.35,beta*a[1],r'$\\beta$',fontweight='bold',fontsize=18)\n",
    "plt.text((b[0]+beta*a[0])/2,(b[1]+beta*a[1])/2+.1,r'(b-$\\beta$a)',fontweight='bold',fontsize=18)\n",
    "\n",
    "# some finishing touches\n",
    "plt.axis('square')\n",
    "plt.axis([-1,2.5,-1,2.5])\n",
    "plt.show()"
   ]
  },
  {
   "cell_type": "markdown",
   "id": "10de16cf-b283-4c8b-b38f-cdc17641ba90",
   "metadata": {},
   "source": [
    "#### Q9"
   ]
  },
  {
   "cell_type": "markdown",
   "id": "693efe39-02fc-4da2-8e95-13210c4eef52",
   "metadata": {},
   "source": [
    "직교벡터 분해 구현."
   ]
  },
  {
   "cell_type": "code",
   "execution_count": 80,
   "id": "7a1fdeb1-6608-458e-8bde-c92eda116517",
   "metadata": {},
   "outputs": [],
   "source": [
    "t = np.random.rand(2)\n",
    "r = np.random.rand(2)"
   ]
  },
  {
   "cell_type": "code",
   "execution_count": 81,
   "id": "bf2fa3c4-959e-4dbc-a6da-82fb4b2d7029",
   "metadata": {},
   "outputs": [
    {
     "name": "stdout",
     "output_type": "stream",
     "text": [
      "[0.68237534 0.7851848 ] [0.27366187 0.71179959]\n"
     ]
    }
   ],
   "source": [
    "print(t, r)"
   ]
  },
  {
   "cell_type": "markdown",
   "id": "4be8365a-66c9-4e16-95ae-9de917121816",
   "metadata": {},
   "source": [
    "$t_{||r} = r\\cdot\\frac{t^T\\cdot r}{r^T\\cdot r} = r\\cdot\\frac{r^T\\cdot t}{r^T\\cdot r}$\n",
    "\n",
    "$t_{\\perp r} = t - t_{||r}$ "
   ]
  },
  {
   "cell_type": "code",
   "execution_count": 82,
   "id": "4b2d41a8-fb28-4f0a-8671-e2551f4199b5",
   "metadata": {},
   "outputs": [],
   "source": [
    "# the decomposition\n",
    "t_parallel = r * (np.dot(t,r) / np.dot(r,r)) \n",
    "t_perpendicular = t - t_parallel"
   ]
  },
  {
   "cell_type": "code",
   "execution_count": 126,
   "id": "9ce1ffb6-4769-4422-9a92-df9a7ab533ec",
   "metadata": {},
   "outputs": [
    {
     "data": {
      "image/png": "[encoded data removed]",
      "text/plain": [
       "<Figure size 360x360 with 1 Axes>"
      ]
     },
     "metadata": {
      "needs_background": "light"
     },
     "output_type": "display_data"
    }
   ],
   "source": [
    "import matplotlib.pyplot as plt\n",
    "plt.figure(figsize = (5,5))\n",
    "\n",
    "plt.arrow(0, 0, t[0], t[1], color = \"black\", length_includes_head = True, width=.01)\n",
    "plt.text(t[0]+.01, t[1]+.01, s = \"t\")\n",
    "plt.arrow(0, 0, r[0], r[1], color=[.1,.5,.7], length_includes_head = True,  width=.01)\n",
    "plt.text(r[0]+.02, r[1]+.01, s = \"r\")\n",
    "plt.arrow(0, 0, t_parallel[0], t_parallel[1], color = \"red\", ls = \"--\", width = .001)\n",
    "plt.text(t_parallel[0]+.02, t_parallel[1]+.01, s = \"t_parallel\")\n",
    "plt.arrow(0, 0, t_perpendicular[0], t_perpendicular[1], color = \"red\", ls = \"--\", width = .001)\n",
    "plt.text(t_perpendicular[0]+.02, t_perpendicular[1]+.01, s = \"t_perpendicular\")\n",
    "\n",
    "plt.axis((-0.2, 1, -0.2, 1))\n",
    "plt.show()"
   ]
  },
  {
   "cell_type": "markdown",
   "id": "f4bba66b-f132-4800-9d67-3451675bf5fb",
   "metadata": {},
   "source": [
    "#### Q10"
   ]
  },
  {
   "cell_type": "code",
   "execution_count": 81,
   "id": "cccb4c16-1599-4473-8695-9d5a7a158990",
   "metadata": {},
   "outputs": [
    {
     "name": "stdout",
     "output_type": "stream",
     "text": [
      "[0.68237534 0.7851848 ] [0.27366187 0.71179959]\n"
     ]
    }
   ],
   "source": [
    "print(t, r)"
   ]
  },
  {
   "cell_type": "code",
   "execution_count": 127,
   "id": "5c3df458-d106-4df6-91ff-52391c2cbd39",
   "metadata": {},
   "outputs": [],
   "source": [
    "# the decomposition\n",
    "t_parallel = r * (np.dot(t,r) / np.dot(t,t)) \n",
    "t_perpendicular = t - t_parallel"
   ]
  },
  {
   "cell_type": "code",
   "execution_count": 128,
   "id": "96d6d3d7-8d03-4695-9c16-6c71d69da31c",
   "metadata": {},
   "outputs": [
    {
     "data": {
      "image/png": "[encoded data removed]",
      "text/plain": [
       "<Figure size 360x360 with 1 Axes>"
      ]
     },
     "metadata": {
      "needs_background": "light"
     },
     "output_type": "display_data"
    }
   ],
   "source": [
    "import matplotlib.pyplot as plt\n",
    "plt.figure(figsize = (5,5))\n",
    "\n",
    "plt.arrow(0, 0, t[0], t[1], color = \"black\", length_includes_head = True, width=.01)\n",
    "plt.text(t[0]+.01, t[1]+.01, s = \"t\")\n",
    "plt.arrow(0, 0, r[0], r[1], color=[.1,.5,.7], length_includes_head = True,  width=.01)\n",
    "plt.text(r[0]+.02, r[1]+.01, s = \"r\")\n",
    "plt.arrow(0, 0, t_parallel[0], t_parallel[1], color = \"red\", ls = \"--\", width = .001)\n",
    "plt.text(t_parallel[0]+.02, t_parallel[1]+.01, s = \"t_parallel\")\n",
    "plt.arrow(0, 0, t_perpendicular[0], t_perpendicular[1], color = \"red\", ls = \"--\", width = .001)\n",
    "plt.text(t_perpendicular[0]+.02, t_perpendicular[1]+.01, s = \"t_perpendicular\")\n",
    "\n",
    "plt.axis((-0.2, 1, -0.2, 1))\n",
    "plt.show()"
   ]
  },
  {
   "cell_type": "code",
   "execution_count": null,
   "id": "bdd666ba-9789-4127-b13b-d95e9fc9e27d",
   "metadata": {},
   "outputs": [],
   "source": []
  }
 ],
 "metadata": {
  "kernelspec": {
   "display_name": "Python 3 (ipykernel)",
   "language": "python",
   "name": "python3"
  },
  "language_info": {
   "codemirror_mode": {
    "name": "ipython",
    "version": 3
   },
   "file_extension": ".py",
   "mimetype": "text/x-python",
   "name": "python",
   "nbconvert_exporter": "python",
   "pygments_lexer": "ipython3",
   "version": "3.9.12"
  }
 },
 "nbformat": 4,
 "nbformat_minor": 5
}
