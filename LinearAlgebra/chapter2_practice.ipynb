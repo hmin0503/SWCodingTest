{
 "cells": [
  {
   "cell_type": "markdown",
   "id": "b1536e92-4503-48c2-8d8c-126a2a234f32",
   "metadata": {},
   "source": [
    "### Q2-1"
   ]
  },
  {
   "cell_type": "code",
   "execution_count": 3,
   "id": "7f30f661-6216-4fe8-af41-b7d570217b11",
   "metadata": {},
   "outputs": [],
   "source": [
    "import numpy as np"
   ]
  },
  {
   "cell_type": "code",
   "execution_count": 20,
   "id": "afec0322-545f-476f-94ca-c88cb85e26b2",
   "metadata": {},
   "outputs": [],
   "source": [
    "s = [3,3,3]\n",
    "V = [np.array([1,1,1]).T, np.array([1,2,3]).T, np.array([1,2,3]).T]  "
   ]
  },
  {
   "cell_type": "code",
   "execution_count": 21,
   "id": "2f729f96-7c19-4daa-a45f-9b13149dba3f",
   "metadata": {},
   "outputs": [
    {
     "name": "stdout",
     "output_type": "stream",
     "text": [
      "[ 9. 15. 21.]\n"
     ]
    }
   ],
   "source": [
    "result = np.zeros((3,))\n",
    "for ss, v in zip(s,V):\n",
    "    result += ss * v\n",
    "print(result)"
   ]
  },
  {
   "cell_type": "markdown",
   "id": "de649e47-1004-4a05-95e4-5eb4a74178f4",
   "metadata": {},
   "source": [
    "### Q2-2 -> scalar가 더 많아서 error"
   ]
  },
  {
   "cell_type": "code",
   "execution_count": 23,
   "id": "83812f3b-9834-4b3b-8294-ed8766a749b3",
   "metadata": {},
   "outputs": [],
   "source": [
    "import numpy as np"
   ]
  },
  {
   "cell_type": "code",
   "execution_count": 24,
   "id": "b302f17e-1f4a-4c71-a4e4-4c588647aa68",
   "metadata": {},
   "outputs": [
    {
     "ename": "IndexError",
     "evalue": "list index out of range",
     "output_type": "error",
     "traceback": [
      "\u001b[1;31m---------------------------------------------------------------------------\u001b[0m",
      "\u001b[1;31mIndexError\u001b[0m                                Traceback (most recent call last)",
      "Input \u001b[1;32mIn [24]\u001b[0m, in \u001b[0;36m<cell line: 5>\u001b[1;34m()\u001b[0m\n\u001b[0;32m      4\u001b[0m result \u001b[38;5;241m=\u001b[39m np\u001b[38;5;241m.\u001b[39mzeros((\u001b[38;5;241m3\u001b[39m,))\n\u001b[0;32m      5\u001b[0m \u001b[38;5;28;01mfor\u001b[39;00m i \u001b[38;5;129;01min\u001b[39;00m \u001b[38;5;28mrange\u001b[39m(\u001b[38;5;28mlen\u001b[39m(s)):\n\u001b[1;32m----> 6\u001b[0m     result \u001b[38;5;241m+\u001b[39m\u001b[38;5;241m=\u001b[39m s[i] \u001b[38;5;241m*\u001b[39m \u001b[43mV\u001b[49m\u001b[43m[\u001b[49m\u001b[43mi\u001b[49m\u001b[43m]\u001b[49m\n\u001b[0;32m      7\u001b[0m \u001b[38;5;28mprint\u001b[39m(result)\n",
      "\u001b[1;31mIndexError\u001b[0m: list index out of range"
     ]
    }
   ],
   "source": [
    "s = [3,3,3, 4]\n",
    "V = [np.array([1,1,1]).T, np.array([1,2,3]).T, np.array([1,2,3]).T]  \n",
    "\n",
    "result = np.zeros((3,))\n",
    "for i in range(len(s)):\n",
    "    result += s[i] * V[i]\n",
    "print(result)"
   ]
  },
  {
   "cell_type": "markdown",
   "id": "12e2924e-a3e9-42a4-bcce-8ba04cc385db",
   "metadata": {},
   "source": [
    "### Q2-3"
   ]
  },
  {
   "cell_type": "code",
   "execution_count": 69,
   "id": "fdefbf59-1c17-4de1-b93f-1d7866a094f5",
   "metadata": {},
   "outputs": [],
   "source": [
    "import numpy as np\n",
    "import matplotlib.pyplot as plt\n",
    "import plotly.graph_objects as go"
   ]
  },
  {
   "cell_type": "code",
   "execution_count": 70,
   "id": "3516bf2a-d87d-454e-8433-7c322cec9ae1",
   "metadata": {},
   "outputs": [],
   "source": [
    "V = np.array([1,3])\n",
    "S = np.linspace(-4, 4, 100)\n",
    "S = np.random.uniform(-4, 4, 100) "
   ]
  },
  {
   "cell_type": "code",
   "execution_count": 71,
   "id": "c5758842-cd71-4be2-894d-c98e5d8c23b0",
   "metadata": {},
   "outputs": [
    {
     "data": {
      "image/png": "[encoded data removed]",
      "text/plain": [
       "<Figure size 432x432 with 1 Axes>"
      ]
     },
     "metadata": {
      "needs_background": "light"
     },
     "output_type": "display_data"
    }
   ],
   "source": [
    "# create a figure, etc\n",
    "plt.figure(figsize=(6,6))\n",
    "# loop over the random scalars\n",
    "for s in S:\n",
    "\n",
    "  # create point p\n",
    "  p = V*s\n",
    "\n",
    "  # plot it\n",
    "  plt.plot(p[0],p[1], \"o\", color = \"black\")\n",
    "\n",
    "plt.plot(V[0], V[1], \"o\", color = \"red\")\n",
    "plt.xlim([-4,4])\n",
    "plt.ylim([-4,4])\n",
    "plt.grid()\n",
    "plt.text(-4.5,4.5,'A)',fontweight='bold',fontsize=18)\n",
    "# plt.savefig('Figure_02_07a.png',dpi=300)\n",
    "plt.show()"
   ]
  },
  {
   "cell_type": "code",
   "execution_count": 90,
   "id": "e3a9036b-b244-4756-a1c5-35418524be19",
   "metadata": {},
   "outputs": [],
   "source": [
    "V = [np.array([3, 5, 1]), np.array([0, 2, 2])]\n",
    "S1 = np.random.uniform(-4, 4, 100)\n",
    "S2 = np.random.uniform(-4, 4, 100)"
   ]
  },
  {
   "cell_type": "code",
   "execution_count": 91,
   "id": "ec3e72ed-d071-4033-9ee8-eecf3bbc8e4f",
   "metadata": {},
   "outputs": [],
   "source": [
    "points = np.zeros((100, 3))\n",
    "for idx, (s1, s2) in enumerate(zip(S1, S2)):\n",
    "    points[idx, :] = s1 * V[0] + s2 * V[1]"
   ]
  },
  {
   "cell_type": "code",
   "execution_count": 92,
   "id": "9724c683-c432-457a-8f0e-488475a0e671",
   "metadata": {},
   "outputs": [
    {
     "data": {
      "application/vnd.plotly.v1+json": {
       "config": {
        "plotlyServerURL": "https://plot.ly"
       },
       "data": [
        {
         "marker": {
          "color": "black",
          "size": 6
         },
         "mode": "markers",
         "type": "scatter3d",
         "x": [
          0.5221644701844541,
          9.586937094711073,
          -0.058965008359204596,
          6.0261522319592675,
          7.4719590832317495,
          8.92472064684647,
          -5.6670279397685075,
          -8.51123957999819,
          10.582665704412516,
          1.3497805314590652,
          -8.929392876685338,
          -7.244456625958729,
          -1.7070968951732555,
          7.549418643828922,
          -4.809596249156959,
          0.22020370405762435,
          9.359249359017884,
          5.200705790388965,
          -6.10789524964774,
          -10.429831655836601,
          8.322306173553137,
          -3.9785820138916934,
          -4.4623539280328135,
          -10.8988201007881,
          -1.0679332750540311,
          10.437858424127102,
          5.621946914619516,
          0.8478907249971108,
          0.6599772200667635,
          -0.7622727970151733,
          -7.958451883966553,
          8.503278918424357,
          -3.6527350893451063,
          3.480931694794398,
          -10.745886341780414,
          6.305137804867823,
          -1.7869799218179487,
          -0.03223580008982374,
          -4.615921589279031,
          -7.98899476609462,
          10.504732399495996,
          -8.610348081533207,
          2.6788581036347416,
          10.40172413756492,
          0.42352880502800083,
          -5.4433261552042085,
          -1.120763524053741,
          8.937005958515275,
          1.0569344825263265,
          5.947378354043908,
          3.529769792544606,
          -2.00565204359319,
          0.918370896757355,
          -0.8682466003486775,
          0.32219181494157745,
          5.078258808616354,
          -8.350212976700472,
          11.199126611586657,
          11.744224771037656,
          3.9621007094774034,
          -7.072830706486102,
          9.673679041424737,
          -7.728816645153217,
          9.971445173507536,
          -9.81533317137499,
          6.943582827829141,
          -4.227836033356146,
          -8.946476401205988,
          6.995058974024542,
          -6.028369693070351,
          -4.567178714193004,
          6.430015096679353,
          -3.680653793348502,
          0.515847431258047,
          3.7909282393550425,
          -8.782884089168599,
          1.8315764754425041,
          -2.080845865715002,
          1.5208469840708156,
          -6.000025374485422,
          -8.51304746974396,
          11.33944603755564,
          2.649990776886318,
          -8.132737494137572,
          -10.151917583431896,
          1.0789138577835518,
          10.674188079367273,
          -8.127398498881204,
          -3.6096354249599063,
          -10.489295618139431,
          0.22747042376560866,
          -1.5032167587598595,
          9.869872627965744,
          5.393010679986188,
          3.9213137372840974,
          7.333451227937565,
          10.470891103356568,
          -2.8261747484356503,
          0.5088278082876379,
          11.508814501946798
         ],
         "y": [
          6.120329911527578,
          21.445940837636343,
          4.289164385534153,
          17.947555986556115,
          6.048654664780695,
          16.314769932035805,
          -6.601134570619488,
          -8.921377338403016,
          19.60112787076301,
          -4.1843895195578655,
          -8.80749576486626,
          -17.616772972269807,
          2.7623870594954534,
          13.776208972763376,
          -5.978843180656584,
          3.227270356716968,
          14.54206175100775,
          11.707414976308305,
          -16.385010286070077,
          -21.12641518933959,
          10.222879005291569,
          -11.006529677912269,
          -14.371107489039847,
          -20.76360739319195,
          0.6138516327791432,
          23.680664791979673,
          14.9595064421034,
          7.883594546787627,
          -5.317953043609006,
          -5.106843216244835,
          -6.409055151127502,
          10.617345410059187,
          -4.2142449720333,
          12.398947859225384,
          -18.906277336307213,
          15.632869231144007,
          -10.217142502027098,
          6.4248555042733155,
          -7.141936561948203,
          -20.530362135019626,
          24.300837151983306,
          -20.971117568796387,
          -3.2952094592972934,
          18.18683468751853,
          4.773463580448066,
          -15.939343581715951,
          2.2819712719701464,
          19.12614064586311,
          -5.0887797906317775,
          16.569522138146407,
          9.713216290824807,
          0.6819462318301026,
          -4.572536245429991,
          -5.122920491268576,
          4.070448440146848,
          3.877093892190789,
          -13.566627754975455,
          14.448460597606541,
          24.328338673617765,
          3.7599881438987763,
          -4.445146814403671,
          19.090666889513706,
          -13.97981645243741,
          15.4718350645612,
          -9.375326458658106,
          18.082533577740023,
          -9.694901804864168,
          -18.839240762222005,
          12.640568542942475,
          -3.552300262744952,
          -8.319430843040104,
          16.244294832695864,
          -2.77764307145505,
          4.226298528369476,
          6.788424644484615,
          -18.40033430912119,
          8.39604862473583,
          -4.154932276268715,
          -0.4465567772624377,
          -8.82092267895532,
          -13.97161429847504,
          10.943972074447077,
          0.35621846499424414,
          -17.47185828587051,
          -24.51675225846673,
          6.916841982941057,
          10.889782337157476,
          -20.915878688352954,
          -0.7516188840099787,
          -23.036695122057722,
          -6.928855672855275,
          -10.499513336745132,
          11.999562494951475,
          8.52555937772447,
          7.947187460126787,
          9.354152360271065,
          10.225912486933346,
          -4.6235412182617575,
          2.1878740646090176,
          16.352857085567162
         ],
         "z": [
          5.424110617948306,
          8.663358044688245,
          4.367784396679759,
          9.912686343943758,
          -3.9139574461949715,
          4.41514240290718,
          0.9549026824051889,
          2.4269421015945687,
          5.490906931546322,
          -5.984096894836619,
          3.098361404047523,
          -7.9574974709915045,
          5.038516253059794,
          3.710317447658147,
          0.43395181821936113,
          2.9336654179734687,
          2.063062605650572,
          4.773140589123019,
          -8.241149953206424,
          -7.2199729815574525,
          -0.8735292261126144,
          -5.70175365939001,
          -8.421302251662762,
          -6.231847258807819,
          2.037762666184518,
          9.763520226476869,
          7.463577222610713,
          6.753073580124813,
          -6.197922670364691,
          -4.090479486891271,
          4.202214027494567,
          -0.7203598145066223,
          0.6560684804268417,
          7.75770559949952,
          -4.578428880599992,
          7.226018824653575,
          -7.834502606269833,
          6.467836571059747,
          -0.9873744429094948,
          -9.878369113560133,
          10.294527285988643,
          -9.49065346008544,
          -6.8670202641436155,
          4.317869170765307,
          4.208758507077398,
          -8.681575374777005,
          3.7763226373751344,
          7.210132701176074,
          -6.498025767333546,
          8.63968433275453,
          5.006856567431999,
          3.3561489566210225,
          -5.797030774439798,
          -3.965258357470339,
          3.6408593535580778,
          -2.8939178526310165,
          -2.4330104527081584,
          -0.4837082178423344,
          8.669372312234223,
          -1.522812802071095,
          4.9852941275777996,
          6.1924281676140565,
          -3.6747275922331193,
          2.1765748332178196,
          3.711784436508548,
          8.8244231406345,
          -4.05778709372264,
          -6.910605560614017,
          3.3138232442430846,
          4.485525994682183,
          -2.2298592241160993,
          7.670941370456725,
          2.1298953196762858,
          3.5385019533587467,
          1.7338536586778917,
          -6.689822190229725,
          5.953946657479158,
          -1.3804711219820458,
          -2.4743527560235252,
          -0.8208888463080894,
          -2.6208843388164302,
          -4.175289308960442,
          -3.1771025708541796,
          -6.6282082936870825,
          -10.980862147224205,
          5.478290172562988,
          -3.3424684353322194,
          -10.079347356511349,
          4.061228349269896,
          -9.050967631205147,
          -7.23214957120942,
          -8.495224325065319,
          -1.1602676756695178,
          1.3348784710762187,
          2.7187691437479904,
          -0.42378261031235365,
          -3.735275650875413,
          -0.855308220347557,
          1.509436986892167,
          1.0077710829714297
         ]
        }
       ],
       "layout": {
        "autosize": true,
        "margin": {
         "b": 0,
         "l": 0,
         "r": 0,
         "t": 0
        },
        "scene": {
         "aspectmode": "auto",
         "aspectratio": {
          "x": 0.7901758237882944,
          "y": 1.7045503457575368,
          "z": 0.7424486621374701
         },
         "camera": {
          "center": {
           "x": 0,
           "y": 0,
           "z": 0
          },
          "eye": {
           "x": -1.8359169218201181,
           "y": 1.1408028455862158,
           "z": 0.12441030374102965
          },
          "projection": {
           "type": "perspective"
          },
          "up": {
           "x": 0,
           "y": 0,
           "z": 1
          }
         }
        },
        "template": {
         "data": {
          "bar": [
           {
            "error_x": {
             "color": "#2a3f5f"
            },
            "error_y": {
             "color": "#2a3f5f"
            },
            "marker": {
             "line": {
              "color": "#E5ECF6",
              "width": 0.5
             },
             "pattern": {
              "fillmode": "overlay",
              "size": 10,
              "solidity": 0.2
             }
            },
            "type": "bar"
           }
          ],
          "barpolar": [
           {
            "marker": {
             "line": {
              "color": "#E5ECF6",
              "width": 0.5
             },
             "pattern": {
              "fillmode": "overlay",
              "size": 10,
              "solidity": 0.2
             }
            },
            "type": "barpolar"
           }
          ],
          "carpet": [
           {
            "aaxis": {
             "endlinecolor": "#2a3f5f",
             "gridcolor": "white",
             "linecolor": "white",
             "minorgridcolor": "white",
             "startlinecolor": "#2a3f5f"
            },
            "baxis": {
             "endlinecolor": "#2a3f5f",
             "gridcolor": "white",
             "linecolor": "white",
             "minorgridcolor": "white",
             "startlinecolor": "#2a3f5f"
            },
            "type": "carpet"
           }
          ],
          "choropleth": [
           {
            "colorbar": {
             "outlinewidth": 0,
             "ticks": ""
            },
            "type": "choropleth"
           }
          ],
          "contour": [
           {
            "colorbar": {
             "outlinewidth": 0,
             "ticks": ""
            },
            "colorscale": [
             [
              0,
              "#0d0887"
             ],
             [
              0.1111111111111111,
              "#46039f"
             ],
             [
              0.2222222222222222,
              "#7201a8"
             ],
             [
              0.3333333333333333,
              "#9c179e"
             ],
             [
              0.4444444444444444,
              "#bd3786"
             ],
             [
              0.5555555555555556,
              "#d8576b"
             ],
             [
              0.6666666666666666,
              "#ed7953"
             ],
             [
              0.7777777777777778,
              "#fb9f3a"
             ],
             [
              0.8888888888888888,
              "#fdca26"
             ],
             [
              1,
              "#f0f921"
             ]
            ],
            "type": "contour"
           }
          ],
          "contourcarpet": [
           {
            "colorbar": {
             "outlinewidth": 0,
             "ticks": ""
            },
            "type": "contourcarpet"
           }
          ],
          "heatmap": [
           {
            "colorbar": {
             "outlinewidth": 0,
             "ticks": ""
            },
            "colorscale": [
             [
              0,
              "#0d0887"
             ],
             [
              0.1111111111111111,
              "#46039f"
             ],
             [
              0.2222222222222222,
              "#7201a8"
             ],
             [
              0.3333333333333333,
              "#9c179e"
             ],
             [
              0.4444444444444444,
              "#bd3786"
             ],
             [
              0.5555555555555556,
              "#d8576b"
             ],
             [
              0.6666666666666666,
              "#ed7953"
             ],
             [
              0.7777777777777778,
              "#fb9f3a"
             ],
             [
              0.8888888888888888,
              "#fdca26"
             ],
             [
              1,
              "#f0f921"
             ]
            ],
            "type": "heatmap"
           }
          ],
          "heatmapgl": [
           {
            "colorbar": {
             "outlinewidth": 0,
             "ticks": ""
            },
            "colorscale": [
             [
              0,
              "#0d0887"
             ],
             [
              0.1111111111111111,
              "#46039f"
             ],
             [
              0.2222222222222222,
              "#7201a8"
             ],
             [
              0.3333333333333333,
              "#9c179e"
             ],
             [
              0.4444444444444444,
              "#bd3786"
             ],
             [
              0.5555555555555556,
              "#d8576b"
             ],
             [
              0.6666666666666666,
              "#ed7953"
             ],
             [
              0.7777777777777778,
              "#fb9f3a"
             ],
             [
              0.8888888888888888,
              "#fdca26"
             ],
             [
              1,
              "#f0f921"
             ]
            ],
            "type": "heatmapgl"
           }
          ],
          "histogram": [
           {
            "marker": {
             "pattern": {
              "fillmode": "overlay",
              "size": 10,
              "solidity": 0.2
             }
            },
            "type": "histogram"
           }
          ],
          "histogram2d": [
           {
            "colorbar": {
             "outlinewidth": 0,
             "ticks": ""
            },
            "colorscale": [
             [
              0,
              "#0d0887"
             ],
             [
              0.1111111111111111,
              "#46039f"
             ],
             [
              0.2222222222222222,
              "#7201a8"
             ],
             [
              0.3333333333333333,
              "#9c179e"
             ],
             [
              0.4444444444444444,
              "#bd3786"
             ],
             [
              0.5555555555555556,
              "#d8576b"
             ],
             [
              0.6666666666666666,
              "#ed7953"
             ],
             [
              0.7777777777777778,
              "#fb9f3a"
             ],
             [
              0.8888888888888888,
              "#fdca26"
             ],
             [
              1,
              "#f0f921"
             ]
            ],
            "type": "histogram2d"
           }
          ],
          "histogram2dcontour": [
           {
            "colorbar": {
             "outlinewidth": 0,
             "ticks": ""
            },
            "colorscale": [
             [
              0,
              "#0d0887"
             ],
             [
              0.1111111111111111,
              "#46039f"
             ],
             [
              0.2222222222222222,
              "#7201a8"
             ],
             [
              0.3333333333333333,
              "#9c179e"
             ],
             [
              0.4444444444444444,
              "#bd3786"
             ],
             [
              0.5555555555555556,
              "#d8576b"
             ],
             [
              0.6666666666666666,
              "#ed7953"
             ],
             [
              0.7777777777777778,
              "#fb9f3a"
             ],
             [
              0.8888888888888888,
              "#fdca26"
             ],
             [
              1,
              "#f0f921"
             ]
            ],
            "type": "histogram2dcontour"
           }
          ],
          "mesh3d": [
           {
            "colorbar": {
             "outlinewidth": 0,
             "ticks": ""
            },
            "type": "mesh3d"
           }
          ],
          "parcoords": [
           {
            "line": {
             "colorbar": {
              "outlinewidth": 0,
              "ticks": ""
             }
            },
            "type": "parcoords"
           }
          ],
          "pie": [
           {
            "automargin": true,
            "type": "pie"
           }
          ],
          "scatter": [
           {
            "marker": {
             "colorbar": {
              "outlinewidth": 0,
              "ticks": ""
             }
            },
            "type": "scatter"
           }
          ],
          "scatter3d": [
           {
            "line": {
             "colorbar": {
              "outlinewidth": 0,
              "ticks": ""
             }
            },
            "marker": {
             "colorbar": {
              "outlinewidth": 0,
              "ticks": ""
             }
            },
            "type": "scatter3d"
           }
          ],
          "scattercarpet": [
           {
            "marker": {
             "colorbar": {
              "outlinewidth": 0,
              "ticks": ""
             }
            },
            "type": "scattercarpet"
           }
          ],
          "scattergeo": [
           {
            "marker": {
             "colorbar": {
              "outlinewidth": 0,
              "ticks": ""
             }
            },
            "type": "scattergeo"
           }
          ],
          "scattergl": [
           {
            "marker": {
             "colorbar": {
              "outlinewidth": 0,
              "ticks": ""
             }
            },
            "type": "scattergl"
           }
          ],
          "scattermapbox": [
           {
            "marker": {
             "colorbar": {
              "outlinewidth": 0,
              "ticks": ""
             }
            },
            "type": "scattermapbox"
           }
          ],
          "scatterpolar": [
           {
            "marker": {
             "colorbar": {
              "outlinewidth": 0,
              "ticks": ""
             }
            },
            "type": "scatterpolar"
           }
          ],
          "scatterpolargl": [
           {
            "marker": {
             "colorbar": {
              "outlinewidth": 0,
              "ticks": ""
             }
            },
            "type": "scatterpolargl"
           }
          ],
          "scatterternary": [
           {
            "marker": {
             "colorbar": {
              "outlinewidth": 0,
              "ticks": ""
             }
            },
            "type": "scatterternary"
           }
          ],
          "surface": [
           {
            "colorbar": {
             "outlinewidth": 0,
             "ticks": ""
            },
            "colorscale": [
             [
              0,
              "#0d0887"
             ],
             [
              0.1111111111111111,
              "#46039f"
             ],
             [
              0.2222222222222222,
              "#7201a8"
             ],
             [
              0.3333333333333333,
              "#9c179e"
             ],
             [
              0.4444444444444444,
              "#bd3786"
             ],
             [
              0.5555555555555556,
              "#d8576b"
             ],
             [
              0.6666666666666666,
              "#ed7953"
             ],
             [
              0.7777777777777778,
              "#fb9f3a"
             ],
             [
              0.8888888888888888,
              "#fdca26"
             ],
             [
              1,
              "#f0f921"
             ]
            ],
            "type": "surface"
           }
          ],
          "table": [
           {
            "cells": {
             "fill": {
              "color": "#EBF0F8"
             },
             "line": {
              "color": "white"
             }
            },
            "header": {
             "fill": {
              "color": "#C8D4E3"
             },
             "line": {
              "color": "white"
             }
            },
            "type": "table"
           }
          ]
         },
         "layout": {
          "annotationdefaults": {
           "arrowcolor": "#2a3f5f",
           "arrowhead": 0,
           "arrowwidth": 1
          },
          "autotypenumbers": "strict",
          "coloraxis": {
           "colorbar": {
            "outlinewidth": 0,
            "ticks": ""
           }
          },
          "colorscale": {
           "diverging": [
            [
             0,
             "#8e0152"
            ],
            [
             0.1,
             "#c51b7d"
            ],
            [
             0.2,
             "#de77ae"
            ],
            [
             0.3,
             "#f1b6da"
            ],
            [
             0.4,
             "#fde0ef"
            ],
            [
             0.5,
             "#f7f7f7"
            ],
            [
             0.6,
             "#e6f5d0"
            ],
            [
             0.7,
             "#b8e186"
            ],
            [
             0.8,
             "#7fbc41"
            ],
            [
             0.9,
             "#4d9221"
            ],
            [
             1,
             "#276419"
            ]
           ],
           "sequential": [
            [
             0,
             "#0d0887"
            ],
            [
             0.1111111111111111,
             "#46039f"
            ],
            [
             0.2222222222222222,
             "#7201a8"
            ],
            [
             0.3333333333333333,
             "#9c179e"
            ],
            [
             0.4444444444444444,
             "#bd3786"
            ],
            [
             0.5555555555555556,
             "#d8576b"
            ],
            [
             0.6666666666666666,
             "#ed7953"
            ],
            [
             0.7777777777777778,
             "#fb9f3a"
            ],
            [
             0.8888888888888888,
             "#fdca26"
            ],
            [
             1,
             "#f0f921"
            ]
           ],
           "sequentialminus": [
            [
             0,
             "#0d0887"
            ],
            [
             0.1111111111111111,
             "#46039f"
            ],
            [
             0.2222222222222222,
             "#7201a8"
            ],
            [
             0.3333333333333333,
             "#9c179e"
            ],
            [
             0.4444444444444444,
             "#bd3786"
            ],
            [
             0.5555555555555556,
             "#d8576b"
            ],
            [
             0.6666666666666666,
             "#ed7953"
            ],
            [
             0.7777777777777778,
             "#fb9f3a"
            ],
            [
             0.8888888888888888,
             "#fdca26"
            ],
            [
             1,
             "#f0f921"
            ]
           ]
          },
          "colorway": [
           "#636efa",
           "#EF553B",
           "#00cc96",
           "#ab63fa",
           "#FFA15A",
           "#19d3f3",
           "#FF6692",
           "#B6E880",
           "#FF97FF",
           "#FECB52"
          ],
          "font": {
           "color": "#2a3f5f"
          },
          "geo": {
           "bgcolor": "white",
           "lakecolor": "white",
           "landcolor": "#E5ECF6",
           "showlakes": true,
           "showland": true,
           "subunitcolor": "white"
          },
          "hoverlabel": {
           "align": "left"
          },
          "hovermode": "closest",
          "mapbox": {
           "style": "light"
          },
          "paper_bgcolor": "white",
          "plot_bgcolor": "#E5ECF6",
          "polar": {
           "angularaxis": {
            "gridcolor": "white",
            "linecolor": "white",
            "ticks": ""
           },
           "bgcolor": "#E5ECF6",
           "radialaxis": {
            "gridcolor": "white",
            "linecolor": "white",
            "ticks": ""
           }
          },
          "scene": {
           "xaxis": {
            "backgroundcolor": "#E5ECF6",
            "gridcolor": "white",
            "gridwidth": 2,
            "linecolor": "white",
            "showbackground": true,
            "ticks": "",
            "zerolinecolor": "white"
           },
           "yaxis": {
            "backgroundcolor": "#E5ECF6",
            "gridcolor": "white",
            "gridwidth": 2,
            "linecolor": "white",
            "showbackground": true,
            "ticks": "",
            "zerolinecolor": "white"
           },
           "zaxis": {
            "backgroundcolor": "#E5ECF6",
            "gridcolor": "white",
            "gridwidth": 2,
            "linecolor": "white",
            "showbackground": true,
            "ticks": "",
            "zerolinecolor": "white"
           }
          },
          "shapedefaults": {
           "line": {
            "color": "#2a3f5f"
           }
          },
          "ternary": {
           "aaxis": {
            "gridcolor": "white",
            "linecolor": "white",
            "ticks": ""
           },
           "baxis": {
            "gridcolor": "white",
            "linecolor": "white",
            "ticks": ""
           },
           "bgcolor": "#E5ECF6",
           "caxis": {
            "gridcolor": "white",
            "linecolor": "white",
            "ticks": ""
           }
          },
          "title": {
           "x": 0.05
          },
          "xaxis": {
           "automargin": true,
           "gridcolor": "white",
           "linecolor": "white",
           "ticks": "",
           "title": {
            "standoff": 15
           },
           "zerolinecolor": "white",
           "zerolinewidth": 2
          },
          "yaxis": {
           "automargin": true,
           "gridcolor": "white",
           "linecolor": "white",
           "ticks": "",
           "title": {
            "standoff": 15
           },
           "zerolinecolor": "white",
           "zerolinewidth": 2
          }
         }
        }
       }
      },
      "image/png": "[encoded data removed]",
      "text/html": [
       "<div>                            <div id=\"d803b62b-9d48-4030-9e1a-5d36a92fdbf7\" class=\"plotly-graph-div\" style=\"height:525px; width:100%;\"></div>            <script type=\"text/javascript\">                require([\"plotly\"], function(Plotly) {                    window.PLOTLYENV=window.PLOTLYENV || {};                                    if (document.getElementById(\"d803b62b-9d48-4030-9e1a-5d36a92fdbf7\")) {                    Plotly.newPlot(                        \"d803b62b-9d48-4030-9e1a-5d36a92fdbf7\",                        [{\"marker\":{\"color\":\"black\",\"size\":6},\"mode\":\"markers\",\"x\":[0.5221644701844541,9.586937094711073,-0.058965008359204596,6.0261522319592675,7.4719590832317495,8.92472064684647,-5.6670279397685075,-8.51123957999819,10.582665704412516,1.3497805314590652,-8.929392876685338,-7.244456625958729,-1.7070968951732555,7.549418643828922,-4.809596249156959,0.22020370405762435,9.359249359017884,5.200705790388965,-6.10789524964774,-10.429831655836601,8.322306173553137,-3.9785820138916934,-4.4623539280328135,-10.8988201007881,-1.0679332750540311,10.437858424127102,5.621946914619516,0.8478907249971108,0.6599772200667635,-0.7622727970151733,-7.958451883966553,8.503278918424357,-3.6527350893451063,3.480931694794398,-10.745886341780414,6.305137804867823,-1.7869799218179487,-0.03223580008982374,-4.615921589279031,-7.98899476609462,10.504732399495996,-8.610348081533207,2.6788581036347416,10.40172413756492,0.42352880502800083,-5.4433261552042085,-1.120763524053741,8.937005958515275,1.0569344825263265,5.947378354043908,3.529769792544606,-2.00565204359319,0.918370896757355,-0.8682466003486775,0.32219181494157745,5.078258808616354,-8.350212976700472,11.199126611586657,11.744224771037656,3.9621007094774034,-7.072830706486102,9.673679041424737,-7.728816645153217,9.971445173507536,-9.81533317137499,6.943582827829141,-4.227836033356146,-8.946476401205988,6.995058974024542,-6.028369693070351,-4.567178714193004,6.430015096679353,-3.680653793348502,0.515847431258047,3.7909282393550425,-8.782884089168599,1.8315764754425041,-2.080845865715002,1.5208469840708156,-6.000025374485422,-8.51304746974396,11.33944603755564,2.649990776886318,-8.132737494137572,-10.151917583431896,1.0789138577835518,10.674188079367273,-8.127398498881204,-3.6096354249599063,-10.489295618139431,0.22747042376560866,-1.5032167587598595,9.869872627965744,5.393010679986188,3.9213137372840974,7.333451227937565,10.470891103356568,-2.8261747484356503,0.5088278082876379,11.508814501946798],\"y\":[6.120329911527578,21.445940837636343,4.289164385534153,17.947555986556115,6.048654664780695,16.314769932035805,-6.601134570619488,-8.921377338403016,19.60112787076301,-4.1843895195578655,-8.80749576486626,-17.616772972269807,2.7623870594954534,13.776208972763376,-5.978843180656584,3.227270356716968,14.54206175100775,11.707414976308305,-16.385010286070077,-21.12641518933959,10.222879005291569,-11.006529677912269,-14.371107489039847,-20.76360739319195,0.6138516327791432,23.680664791979673,14.9595064421034,7.883594546787627,-5.317953043609006,-5.106843216244835,-6.409055151127502,10.617345410059187,-4.2142449720333,12.398947859225384,-18.906277336307213,15.632869231144007,-10.217142502027098,6.4248555042733155,-7.141936561948203,-20.530362135019626,24.300837151983306,-20.971117568796387,-3.2952094592972934,18.18683468751853,4.773463580448066,-15.939343581715951,2.2819712719701464,19.12614064586311,-5.0887797906317775,16.569522138146407,9.713216290824807,0.6819462318301026,-4.572536245429991,-5.122920491268576,4.070448440146848,3.877093892190789,-13.566627754975455,14.448460597606541,24.328338673617765,3.7599881438987763,-4.445146814403671,19.090666889513706,-13.97981645243741,15.4718350645612,-9.375326458658106,18.082533577740023,-9.694901804864168,-18.839240762222005,12.640568542942475,-3.552300262744952,-8.319430843040104,16.244294832695864,-2.77764307145505,4.226298528369476,6.788424644484615,-18.40033430912119,8.39604862473583,-4.154932276268715,-0.4465567772624377,-8.82092267895532,-13.97161429847504,10.943972074447077,0.35621846499424414,-17.47185828587051,-24.51675225846673,6.916841982941057,10.889782337157476,-20.915878688352954,-0.7516188840099787,-23.036695122057722,-6.928855672855275,-10.499513336745132,11.999562494951475,8.52555937772447,7.947187460126787,9.354152360271065,10.225912486933346,-4.6235412182617575,2.1878740646090176,16.352857085567162],\"z\":[5.424110617948306,8.663358044688245,4.367784396679759,9.912686343943758,-3.9139574461949715,4.41514240290718,0.9549026824051889,2.4269421015945687,5.490906931546322,-5.984096894836619,3.098361404047523,-7.9574974709915045,5.038516253059794,3.710317447658147,0.43395181821936113,2.9336654179734687,2.063062605650572,4.773140589123019,-8.241149953206424,-7.2199729815574525,-0.8735292261126144,-5.70175365939001,-8.421302251662762,-6.231847258807819,2.037762666184518,9.763520226476869,7.463577222610713,6.753073580124813,-6.197922670364691,-4.090479486891271,4.202214027494567,-0.7203598145066223,0.6560684804268417,7.75770559949952,-4.578428880599992,7.226018824653575,-7.834502606269833,6.467836571059747,-0.9873744429094948,-9.878369113560133,10.294527285988643,-9.49065346008544,-6.8670202641436155,4.317869170765307,4.208758507077398,-8.681575374777005,3.7763226373751344,7.210132701176074,-6.498025767333546,8.63968433275453,5.006856567431999,3.3561489566210225,-5.797030774439798,-3.965258357470339,3.6408593535580778,-2.8939178526310165,-2.4330104527081584,-0.4837082178423344,8.669372312234223,-1.522812802071095,4.9852941275777996,6.1924281676140565,-3.6747275922331193,2.1765748332178196,3.711784436508548,8.8244231406345,-4.05778709372264,-6.910605560614017,3.3138232442430846,4.485525994682183,-2.2298592241160993,7.670941370456725,2.1298953196762858,3.5385019533587467,1.7338536586778917,-6.689822190229725,5.953946657479158,-1.3804711219820458,-2.4743527560235252,-0.8208888463080894,-2.6208843388164302,-4.175289308960442,-3.1771025708541796,-6.6282082936870825,-10.980862147224205,5.478290172562988,-3.3424684353322194,-10.079347356511349,4.061228349269896,-9.050967631205147,-7.23214957120942,-8.495224325065319,-1.1602676756695178,1.3348784710762187,2.7187691437479904,-0.42378261031235365,-3.735275650875413,-0.855308220347557,1.509436986892167,1.0077710829714297],\"type\":\"scatter3d\"}],                        {\"template\":{\"data\":{\"bar\":[{\"error_x\":{\"color\":\"#2a3f5f\"},\"error_y\":{\"color\":\"#2a3f5f\"},\"marker\":{\"line\":{\"color\":\"#E5ECF6\",\"width\":0.5},\"pattern\":{\"fillmode\":\"overlay\",\"size\":10,\"solidity\":0.2}},\"type\":\"bar\"}],\"barpolar\":[{\"marker\":{\"line\":{\"color\":\"#E5ECF6\",\"width\":0.5},\"pattern\":{\"fillmode\":\"overlay\",\"size\":10,\"solidity\":0.2}},\"type\":\"barpolar\"}],\"carpet\":[{\"aaxis\":{\"endlinecolor\":\"#2a3f5f\",\"gridcolor\":\"white\",\"linecolor\":\"white\",\"minorgridcolor\":\"white\",\"startlinecolor\":\"#2a3f5f\"},\"baxis\":{\"endlinecolor\":\"#2a3f5f\",\"gridcolor\":\"white\",\"linecolor\":\"white\",\"minorgridcolor\":\"white\",\"startlinecolor\":\"#2a3f5f\"},\"type\":\"carpet\"}],\"choropleth\":[{\"colorbar\":{\"outlinewidth\":0,\"ticks\":\"\"},\"type\":\"choropleth\"}],\"contour\":[{\"colorbar\":{\"outlinewidth\":0,\"ticks\":\"\"},\"colorscale\":[[0.0,\"#0d0887\"],[0.1111111111111111,\"#46039f\"],[0.2222222222222222,\"#7201a8\"],[0.3333333333333333,\"#9c179e\"],[0.4444444444444444,\"#bd3786\"],[0.5555555555555556,\"#d8576b\"],[0.6666666666666666,\"#ed7953\"],[0.7777777777777778,\"#fb9f3a\"],[0.8888888888888888,\"#fdca26\"],[1.0,\"#f0f921\"]],\"type\":\"contour\"}],\"contourcarpet\":[{\"colorbar\":{\"outlinewidth\":0,\"ticks\":\"\"},\"type\":\"contourcarpet\"}],\"heatmap\":[{\"colorbar\":{\"outlinewidth\":0,\"ticks\":\"\"},\"colorscale\":[[0.0,\"#0d0887\"],[0.1111111111111111,\"#46039f\"],[0.2222222222222222,\"#7201a8\"],[0.3333333333333333,\"#9c179e\"],[0.4444444444444444,\"#bd3786\"],[0.5555555555555556,\"#d8576b\"],[0.6666666666666666,\"#ed7953\"],[0.7777777777777778,\"#fb9f3a\"],[0.8888888888888888,\"#fdca26\"],[1.0,\"#f0f921\"]],\"type\":\"heatmap\"}],\"heatmapgl\":[{\"colorbar\":{\"outlinewidth\":0,\"ticks\":\"\"},\"colorscale\":[[0.0,\"#0d0887\"],[0.1111111111111111,\"#46039f\"],[0.2222222222222222,\"#7201a8\"],[0.3333333333333333,\"#9c179e\"],[0.4444444444444444,\"#bd3786\"],[0.5555555555555556,\"#d8576b\"],[0.6666666666666666,\"#ed7953\"],[0.7777777777777778,\"#fb9f3a\"],[0.8888888888888888,\"#fdca26\"],[1.0,\"#f0f921\"]],\"type\":\"heatmapgl\"}],\"histogram\":[{\"marker\":{\"pattern\":{\"fillmode\":\"overlay\",\"size\":10,\"solidity\":0.2}},\"type\":\"histogram\"}],\"histogram2d\":[{\"colorbar\":{\"outlinewidth\":0,\"ticks\":\"\"},\"colorscale\":[[0.0,\"#0d0887\"],[0.1111111111111111,\"#46039f\"],[0.2222222222222222,\"#7201a8\"],[0.3333333333333333,\"#9c179e\"],[0.4444444444444444,\"#bd3786\"],[0.5555555555555556,\"#d8576b\"],[0.6666666666666666,\"#ed7953\"],[0.7777777777777778,\"#fb9f3a\"],[0.8888888888888888,\"#fdca26\"],[1.0,\"#f0f921\"]],\"type\":\"histogram2d\"}],\"histogram2dcontour\":[{\"colorbar\":{\"outlinewidth\":0,\"ticks\":\"\"},\"colorscale\":[[0.0,\"#0d0887\"],[0.1111111111111111,\"#46039f\"],[0.2222222222222222,\"#7201a8\"],[0.3333333333333333,\"#9c179e\"],[0.4444444444444444,\"#bd3786\"],[0.5555555555555556,\"#d8576b\"],[0.6666666666666666,\"#ed7953\"],[0.7777777777777778,\"#fb9f3a\"],[0.8888888888888888,\"#fdca26\"],[1.0,\"#f0f921\"]],\"type\":\"histogram2dcontour\"}],\"mesh3d\":[{\"colorbar\":{\"outlinewidth\":0,\"ticks\":\"\"},\"type\":\"mesh3d\"}],\"parcoords\":[{\"line\":{\"colorbar\":{\"outlinewidth\":0,\"ticks\":\"\"}},\"type\":\"parcoords\"}],\"pie\":[{\"automargin\":true,\"type\":\"pie\"}],\"scatter\":[{\"marker\":{\"colorbar\":{\"outlinewidth\":0,\"ticks\":\"\"}},\"type\":\"scatter\"}],\"scatter3d\":[{\"line\":{\"colorbar\":{\"outlinewidth\":0,\"ticks\":\"\"}},\"marker\":{\"colorbar\":{\"outlinewidth\":0,\"ticks\":\"\"}},\"type\":\"scatter3d\"}],\"scattercarpet\":[{\"marker\":{\"colorbar\":{\"outlinewidth\":0,\"ticks\":\"\"}},\"type\":\"scattercarpet\"}],\"scattergeo\":[{\"marker\":{\"colorbar\":{\"outlinewidth\":0,\"ticks\":\"\"}},\"type\":\"scattergeo\"}],\"scattergl\":[{\"marker\":{\"colorbar\":{\"outlinewidth\":0,\"ticks\":\"\"}},\"type\":\"scattergl\"}],\"scattermapbox\":[{\"marker\":{\"colorbar\":{\"outlinewidth\":0,\"ticks\":\"\"}},\"type\":\"scattermapbox\"}],\"scatterpolar\":[{\"marker\":{\"colorbar\":{\"outlinewidth\":0,\"ticks\":\"\"}},\"type\":\"scatterpolar\"}],\"scatterpolargl\":[{\"marker\":{\"colorbar\":{\"outlinewidth\":0,\"ticks\":\"\"}},\"type\":\"scatterpolargl\"}],\"scatterternary\":[{\"marker\":{\"colorbar\":{\"outlinewidth\":0,\"ticks\":\"\"}},\"type\":\"scatterternary\"}],\"surface\":[{\"colorbar\":{\"outlinewidth\":0,\"ticks\":\"\"},\"colorscale\":[[0.0,\"#0d0887\"],[0.1111111111111111,\"#46039f\"],[0.2222222222222222,\"#7201a8\"],[0.3333333333333333,\"#9c179e\"],[0.4444444444444444,\"#bd3786\"],[0.5555555555555556,\"#d8576b\"],[0.6666666666666666,\"#ed7953\"],[0.7777777777777778,\"#fb9f3a\"],[0.8888888888888888,\"#fdca26\"],[1.0,\"#f0f921\"]],\"type\":\"surface\"}],\"table\":[{\"cells\":{\"fill\":{\"color\":\"#EBF0F8\"},\"line\":{\"color\":\"white\"}},\"header\":{\"fill\":{\"color\":\"#C8D4E3\"},\"line\":{\"color\":\"white\"}},\"type\":\"table\"}]},\"layout\":{\"annotationdefaults\":{\"arrowcolor\":\"#2a3f5f\",\"arrowhead\":0,\"arrowwidth\":1},\"autotypenumbers\":\"strict\",\"coloraxis\":{\"colorbar\":{\"outlinewidth\":0,\"ticks\":\"\"}},\"colorscale\":{\"diverging\":[[0,\"#8e0152\"],[0.1,\"#c51b7d\"],[0.2,\"#de77ae\"],[0.3,\"#f1b6da\"],[0.4,\"#fde0ef\"],[0.5,\"#f7f7f7\"],[0.6,\"#e6f5d0\"],[0.7,\"#b8e186\"],[0.8,\"#7fbc41\"],[0.9,\"#4d9221\"],[1,\"#276419\"]],\"sequential\":[[0.0,\"#0d0887\"],[0.1111111111111111,\"#46039f\"],[0.2222222222222222,\"#7201a8\"],[0.3333333333333333,\"#9c179e\"],[0.4444444444444444,\"#bd3786\"],[0.5555555555555556,\"#d8576b\"],[0.6666666666666666,\"#ed7953\"],[0.7777777777777778,\"#fb9f3a\"],[0.8888888888888888,\"#fdca26\"],[1.0,\"#f0f921\"]],\"sequentialminus\":[[0.0,\"#0d0887\"],[0.1111111111111111,\"#46039f\"],[0.2222222222222222,\"#7201a8\"],[0.3333333333333333,\"#9c179e\"],[0.4444444444444444,\"#bd3786\"],[0.5555555555555556,\"#d8576b\"],[0.6666666666666666,\"#ed7953\"],[0.7777777777777778,\"#fb9f3a\"],[0.8888888888888888,\"#fdca26\"],[1.0,\"#f0f921\"]]},\"colorway\":[\"#636efa\",\"#EF553B\",\"#00cc96\",\"#ab63fa\",\"#FFA15A\",\"#19d3f3\",\"#FF6692\",\"#B6E880\",\"#FF97FF\",\"#FECB52\"],\"font\":{\"color\":\"#2a3f5f\"},\"geo\":{\"bgcolor\":\"white\",\"lakecolor\":\"white\",\"landcolor\":\"#E5ECF6\",\"showlakes\":true,\"showland\":true,\"subunitcolor\":\"white\"},\"hoverlabel\":{\"align\":\"left\"},\"hovermode\":\"closest\",\"mapbox\":{\"style\":\"light\"},\"paper_bgcolor\":\"white\",\"plot_bgcolor\":\"#E5ECF6\",\"polar\":{\"angularaxis\":{\"gridcolor\":\"white\",\"linecolor\":\"white\",\"ticks\":\"\"},\"bgcolor\":\"#E5ECF6\",\"radialaxis\":{\"gridcolor\":\"white\",\"linecolor\":\"white\",\"ticks\":\"\"}},\"scene\":{\"xaxis\":{\"backgroundcolor\":\"#E5ECF6\",\"gridcolor\":\"white\",\"gridwidth\":2,\"linecolor\":\"white\",\"showbackground\":true,\"ticks\":\"\",\"zerolinecolor\":\"white\"},\"yaxis\":{\"backgroundcolor\":\"#E5ECF6\",\"gridcolor\":\"white\",\"gridwidth\":2,\"linecolor\":\"white\",\"showbackground\":true,\"ticks\":\"\",\"zerolinecolor\":\"white\"},\"zaxis\":{\"backgroundcolor\":\"#E5ECF6\",\"gridcolor\":\"white\",\"gridwidth\":2,\"linecolor\":\"white\",\"showbackground\":true,\"ticks\":\"\",\"zerolinecolor\":\"white\"}},\"shapedefaults\":{\"line\":{\"color\":\"#2a3f5f\"}},\"ternary\":{\"aaxis\":{\"gridcolor\":\"white\",\"linecolor\":\"white\",\"ticks\":\"\"},\"baxis\":{\"gridcolor\":\"white\",\"linecolor\":\"white\",\"ticks\":\"\"},\"bgcolor\":\"#E5ECF6\",\"caxis\":{\"gridcolor\":\"white\",\"linecolor\":\"white\",\"ticks\":\"\"}},\"title\":{\"x\":0.05},\"xaxis\":{\"automargin\":true,\"gridcolor\":\"white\",\"linecolor\":\"white\",\"ticks\":\"\",\"title\":{\"standoff\":15},\"zerolinecolor\":\"white\",\"zerolinewidth\":2},\"yaxis\":{\"automargin\":true,\"gridcolor\":\"white\",\"linecolor\":\"white\",\"ticks\":\"\",\"title\":{\"standoff\":15},\"zerolinecolor\":\"white\",\"zerolinewidth\":2}}},\"margin\":{\"l\":0,\"r\":0,\"b\":0,\"t\":0}},                        {\"responsive\": true}                    ).then(function(){\n",
       "                            \n",
       "var gd = document.getElementById('d803b62b-9d48-4030-9e1a-5d36a92fdbf7');\n",
       "var x = new MutationObserver(function (mutations, observer) {{\n",
       "        var display = window.getComputedStyle(gd).display;\n",
       "        if (!display || display === 'none') {{\n",
       "            console.log([gd, 'removed!']);\n",
       "            Plotly.purge(gd);\n",
       "            observer.disconnect();\n",
       "        }}\n",
       "}});\n",
       "\n",
       "// Listen for the removal of the full notebook cells\n",
       "var notebookContainer = gd.closest('#notebook-container');\n",
       "if (notebookContainer) {{\n",
       "    x.observe(notebookContainer, {childList: true});\n",
       "}}\n",
       "\n",
       "// Listen for the clearing of the current output cell\n",
       "var outputEl = gd.closest('.output');\n",
       "if (outputEl) {{\n",
       "    x.observe(outputEl, {childList: true});\n",
       "}}\n",
       "\n",
       "                        })                };                });            </script>        </div>"
      ]
     },
     "metadata": {},
     "output_type": "display_data"
    }
   ],
   "source": [
    "fig = go.Figure( data = [go.Scatter3d(\n",
    "    x = points[:, 0], y = points[:, 1], z = points[:, 2],\n",
    "    mode = \"markers\",  marker=dict(size=6,color='black') )]\n",
    "         )\n",
    "fig.update_layout(margin=dict(l=0,r=0,b=0,t=0))\n",
    "fig.show()"
   ]
  },
  {
   "cell_type": "code",
   "execution_count": null,
   "id": "249da85f-6f7d-4f2d-824d-65d9f495582b",
   "metadata": {},
   "outputs": [],
   "source": []
  }
 ],
 "metadata": {
  "kernelspec": {
   "display_name": "Python 3 (ipykernel)",
   "language": "python",
   "name": "python3"
  },
  "language_info": {
   "codemirror_mode": {
    "name": "ipython",
    "version": 3
   },
   "file_extension": ".py",
   "mimetype": "text/x-python",
   "name": "python",
   "nbconvert_exporter": "python",
   "pygments_lexer": "ipython3",
   "version": "3.9.12"
  }
 },
 "nbformat": 4,
 "nbformat_minor": 5
}
